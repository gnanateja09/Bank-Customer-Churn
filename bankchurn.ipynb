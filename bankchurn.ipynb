{
  "nbformat": 4,
  "nbformat_minor": 0,
  "metadata": {
    "colab": {
      "provenance": []
    },
    "kernelspec": {
      "name": "python3",
      "display_name": "Python 3"
    },
    "language_info": {
      "name": "python"
    }
  },
  "cells": [
    {
      "cell_type": "code",
      "execution_count": 8,
      "metadata": {
        "colab": {
          "base_uri": "https://localhost:8080/"
        },
        "id": "71PIFoODDgEm",
        "outputId": "5fc19c54-6b83-4eda-e449-6ea469f00be7"
      },
      "outputs": [
        {
          "output_type": "stream",
          "name": "stdout",
          "text": [
            "Original dataset shape Counter({0: 1933, 1: 467})\n",
            "Resampled dataset shape Counter({0: 1933, 1: 1933})\n",
            "Fitting 3 folds for each of 6 candidates, totalling 18 fits\n",
            "Best Parameters: {'C': 10, 'gamma': 0.1, 'kernel': 'rbf'}\n",
            "Classification Report:\n",
            "              precision    recall  f1-score   support\n",
            "\n",
            "           0       0.88      0.84      0.86       483\n",
            "           1       0.44      0.52      0.48       117\n",
            "\n",
            "    accuracy                           0.78       600\n",
            "   macro avg       0.66      0.68      0.67       600\n",
            "weighted avg       0.79      0.78      0.78       600\n",
            "\n",
            "Confusion Matrix:\n",
            "[[406  77]\n",
            " [ 56  61]]\n"
          ]
        }
      ],
      "source": [
        "# Import necessary libraries\n",
        "import pandas as pd\n",
        "from sklearn.model_selection import train_test_split, GridSearchCV\n",
        "from sklearn.preprocessing import StandardScaler, LabelEncoder\n",
        "from sklearn.svm import SVC\n",
        "from sklearn.metrics import classification_report, confusion_matrix\n",
        "from imblearn.over_sampling import SMOTE\n",
        "from collections import Counter\n",
        "\n",
        "# Load and sample dataset\n",
        "df = pd.read_csv('Bank Churn Modelling.csv')  # replace with your dataset path\n",
        "df_sample = df.sample(frac=0.3, random_state=42)  # Use a 30% sample for faster execution\n",
        "\n",
        "# Separate features and target variable\n",
        "X = df_sample.drop('Churn', axis=1)\n",
        "y = df_sample['Churn']\n",
        "\n",
        "# Data Encoding\n",
        "for column in X.columns:\n",
        "    if X[column].dtype == 'object':\n",
        "        label_encoder = LabelEncoder()\n",
        "        X[column] = label_encoder.fit_transform(X[column])\n",
        "\n",
        "# Train-test split\n",
        "X_train, X_test, y_train, y_test = train_test_split(X, y, test_size=0.2, random_state=42, stratify=y)\n",
        "\n",
        "# Handle Imbalanced Data using SMOTE\n",
        "print(f'Original dataset shape {Counter(y_train)}')\n",
        "smote = SMOTE(random_state=42)\n",
        "X_train, y_train = smote.fit_resample(X_train, y_train)\n",
        "print(f'Resampled dataset shape {Counter(y_train)}')\n",
        "\n",
        "# Feature Scaling\n",
        "scaler = StandardScaler()\n",
        "X_train = scaler.fit_transform(X_train)\n",
        "X_test = scaler.transform(X_test)\n",
        "\n",
        "# Define the SVM model\n",
        "svm_model = SVC()\n",
        "\n",
        "# Set up a reduced hyperparameter grid for GridSearchCV\n",
        "param_grid = {\n",
        "    'C': [0.1, 1, 10],\n",
        "    'gamma': ['scale', 0.1],\n",
        "    'kernel': ['rbf']\n",
        "}\n",
        "\n",
        "# Grid Search for Hyperparameter Tuning with reduced grid and fewer folds\n",
        "grid_search = GridSearchCV(estimator=svm_model, param_grid=param_grid, scoring='f1', cv=3, verbose=2, n_jobs=-1)\n",
        "grid_search.fit(X_train, y_train)\n",
        "\n",
        "# Best model from grid search\n",
        "best_svm_model = grid_search.best_estimator_\n",
        "print(\"Best Parameters:\", grid_search.best_params_)\n",
        "\n",
        "# Predict on the test data\n",
        "y_pred = best_svm_model.predict(X_test)\n",
        "\n",
        "# Evaluate the model\n",
        "print(\"Classification Report:\")\n",
        "print(classification_report(y_test, y_pred))\n",
        "print(\"Confusion Matrix:\")\n",
        "print(confusion_matrix(y_test, y_pred))\n"
      ]
    }
  ]
}